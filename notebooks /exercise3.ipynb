{
 "cells": [
  {
   "cell_type": "markdown",
   "metadata": {},
   "source": [
    "## Heat maps"
   ]
  },
  {
   "cell_type": "markdown",
   "metadata": {},
   "source": [
    "This is a short tutorial on how to plot a 3D PES, 2D contour plot, and density plot from MD data"
   ]
  },
  {
   "cell_type": "markdown",
   "metadata": {},
   "source": [
    "## Get data from MD"
   ]
  },
  {
   "cell_type": "markdown",
   "metadata": {},
   "source": [
    "irstly, let's get some data from an MD run with ASE"
   ]
  },
  {
   "cell_type": "code",
   "execution_count": 1,
   "metadata": {
    "ExecuteTime": {
     "end_time": "2023-11-20T13:08:24.137522Z",
     "start_time": "2023-11-20T13:08:22.255268Z"
    }
   },
   "outputs": [],
   "source": [
    "from ase.lattice.cubic import FaceCenteredCubic\n",
    "from ase.md.velocitydistribution import MaxwellBoltzmannDistribution\n",
    "from ase.md.verlet import VelocityVerlet\n",
    "from ase import units\n",
    "from asap3 import EMT\n",
    "# Set up a crystal"
   ]
  },
  {
   "cell_type": "code",
   "execution_count": 2,
   "metadata": {
    "ExecuteTime": {
     "end_time": "2023-11-20T13:08:24.142501Z",
     "start_time": "2023-11-20T13:08:24.140360Z"
    }
   },
   "outputs": [],
   "source": [
    "size = 10\n",
    "atoms = FaceCenteredCubic(directions=[[1, 0, 0], [0, 1, 0], [0, 0, 1]],\n",
    "                          symbol=\"Cu\",\n",
    "                          size=(size, size, size),\n",
    "                          pbc=True)"
   ]
  },
  {
   "cell_type": "markdown",
   "metadata": {},
   "source": [
    "Describe the interatomic interactions with the Effective Medium Theory"
   ]
  },
  {
   "cell_type": "code",
   "execution_count": 3,
   "metadata": {
    "ExecuteTime": {
     "end_time": "2023-11-20T13:08:24.145993Z",
     "start_time": "2023-11-20T13:08:24.143734Z"
    }
   },
   "outputs": [],
   "source": [
    "atoms.calc = EMT()"
   ]
  },
  {
   "cell_type": "markdown",
   "metadata": {},
   "source": [
    "Set the momenta corresponding to T=300K"
   ]
  },
  {
   "cell_type": "code",
   "execution_count": 4,
   "metadata": {
    "ExecuteTime": {
     "end_time": "2023-11-20T13:08:24.148684Z",
     "start_time": "2023-11-20T13:08:24.146539Z"
    }
   },
   "outputs": [],
   "source": [
    "MaxwellBoltzmannDistribution(atoms, temperature_K=300)"
   ]
  },
  {
   "cell_type": "markdown",
   "metadata": {},
   "source": [
    "We want to run MD with constant energy using the VelocityVerlet algorithm."
   ]
  },
  {
   "cell_type": "code",
   "execution_count": 5,
   "metadata": {
    "ExecuteTime": {
     "end_time": "2023-11-20T13:08:24.152578Z",
     "start_time": "2023-11-20T13:08:24.150336Z"
    }
   },
   "outputs": [],
   "source": [
    "dyn = VelocityVerlet(atoms, 5 * units.fs, trajectory='dyn.traj', logfile='md.log')  # 5 fs time step."
   ]
  },
  {
   "cell_type": "code",
   "execution_count": 6,
   "metadata": {
    "ExecuteTime": {
     "end_time": "2023-11-20T13:08:24.155475Z",
     "start_time": "2023-11-20T13:08:24.153684Z"
    }
   },
   "outputs": [],
   "source": [
    "def printenergy(a=atoms):  # store a reference to atoms in the definition.\n",
    "    \"\"\"Function to print the potential, kinetic and total energy.\"\"\"\n",
    "    epot = a.get_potential_energy() / len(a)\n",
    "    ekin = a.get_kinetic_energy() / len(a)\n",
    "    print('Energy per atom: Epot = %.3feV  Ekin = %.3feV (T=%3.0fK)  '\n",
    "          'Etot = %.3feV' % (epot, ekin, ekin / (1.5 * units.kB), epot + ekin))"
   ]
  },
  {
   "cell_type": "markdown",
   "metadata": {},
   "source": [
    "Now run the dynamics"
   ]
  },
  {
   "cell_type": "code",
   "execution_count": 7,
   "metadata": {
    "ExecuteTime": {
     "end_time": "2023-11-20T13:08:25.227109Z",
     "start_time": "2023-11-20T13:08:24.161852Z"
    }
   },
   "outputs": [
    {
     "name": "stdout",
     "output_type": "stream",
     "text": [
      "Energy per atom: Epot = -0.001eV  Ekin = 0.039eV (T=300K)  Etot = 0.038eV\n",
      "Energy per atom: Epot = -0.001eV  Ekin = 0.039eV (T=300K)  Etot = 0.038eV\n",
      "Energy per atom: Epot = 0.029eV  Ekin = 0.009eV (T= 70K)  Etot = 0.038eV\n",
      "Energy per atom: Epot = 0.020eV  Ekin = 0.019eV (T=146K)  Etot = 0.038eV\n",
      "Energy per atom: Epot = 0.018eV  Ekin = 0.021eV (T=159K)  Etot = 0.038eV\n",
      "Energy per atom: Epot = 0.017eV  Ekin = 0.021eV (T=163K)  Etot = 0.038eV\n",
      "Energy per atom: Epot = 0.020eV  Ekin = 0.018eV (T=142K)  Etot = 0.038eV\n",
      "Energy per atom: Epot = 0.020eV  Ekin = 0.019eV (T=144K)  Etot = 0.038eV\n",
      "Energy per atom: Epot = 0.018eV  Ekin = 0.020eV (T=157K)  Etot = 0.038eV\n",
      "Energy per atom: Epot = 0.018eV  Ekin = 0.020eV (T=154K)  Etot = 0.038eV\n",
      "Energy per atom: Epot = 0.020eV  Ekin = 0.018eV (T=143K)  Etot = 0.038eV\n",
      "Energy per atom: Epot = 0.019eV  Ekin = 0.020eV (T=152K)  Etot = 0.038eV\n",
      "Energy per atom: Epot = 0.018eV  Ekin = 0.020eV (T=154K)  Etot = 0.038eV\n",
      "Energy per atom: Epot = 0.019eV  Ekin = 0.019eV (T=147K)  Etot = 0.038eV\n",
      "Energy per atom: Epot = 0.019eV  Ekin = 0.019eV (T=148K)  Etot = 0.038eV\n",
      "Energy per atom: Epot = 0.019eV  Ekin = 0.020eV (T=153K)  Etot = 0.038eV\n",
      "Energy per atom: Epot = 0.019eV  Ekin = 0.020eV (T=152K)  Etot = 0.038eV\n",
      "Energy per atom: Epot = 0.019eV  Ekin = 0.019eV (T=150K)  Etot = 0.038eV\n",
      "Energy per atom: Epot = 0.019eV  Ekin = 0.019eV (T=148K)  Etot = 0.038eV\n",
      "Energy per atom: Epot = 0.019eV  Ekin = 0.020eV (T=152K)  Etot = 0.038eV\n",
      "Energy per atom: Epot = 0.019eV  Ekin = 0.020eV (T=152K)  Etot = 0.038eV\n",
      "Energy per atom: Epot = 0.020eV  Ekin = 0.018eV (T=142K)  Etot = 0.038eV\n"
     ]
    },
    {
     "data": {
      "text/plain": "True"
     },
     "execution_count": 7,
     "metadata": {},
     "output_type": "execute_result"
    }
   ],
   "source": [
    "dyn.attach(printenergy, interval=10)\n",
    "printenergy()\n",
    "dyn.run(200)"
   ]
  },
  {
   "cell_type": "markdown",
   "metadata": {},
   "source": [
    "## Post processing"
   ]
  },
  {
   "cell_type": "markdown",
   "metadata": {},
   "source": [
    "Now that we have generated some MD data let's analyse some Cu-Cu distances"
   ]
  },
  {
   "cell_type": "markdown",
   "metadata": {},
   "source": [
    "Read in MD trajectory"
   ]
  },
  {
   "cell_type": "code",
   "execution_count": 8,
   "metadata": {
    "ExecuteTime": {
     "end_time": "2023-11-20T13:08:25.227270Z",
     "start_time": "2023-11-20T13:08:25.226494Z"
    }
   },
   "outputs": [],
   "source": [
    "from ase.io import Trajectory\n",
    "traj = Trajectory('dyn.traj')"
   ]
  },
  {
   "cell_type": "markdown",
   "metadata": {},
   "source": [
    "get Cu-Cu distances for atoms [0] to [1],[2] from the MD traj and append to list"
   ]
  },
  {
   "cell_type": "code",
   "execution_count": 9,
   "metadata": {
    "ExecuteTime": {
     "end_time": "2023-11-20T13:08:25.260884Z",
     "start_time": "2023-11-20T13:08:25.227225Z"
    }
   },
   "outputs": [],
   "source": [
    "bond1 = []\n",
    "for atoms in traj[0:200]:\n",
    "    dist1 = atoms.get_distance(0,1)\n",
    "    bond1.append(dist1)"
   ]
  },
  {
   "cell_type": "code",
   "execution_count": 10,
   "metadata": {
    "ExecuteTime": {
     "end_time": "2023-11-20T13:08:25.298114Z",
     "start_time": "2023-11-20T13:08:25.261426Z"
    }
   },
   "outputs": [],
   "source": [
    "bond2 = []\n",
    "for atoms in traj[0:200]:\n",
    "    dist2 = atoms.get_distance(0,2)\n",
    "    bond2.append(dist2)"
   ]
  },
  {
   "cell_type": "markdown",
   "metadata": {},
   "source": [
    "## Prepare data for plotting"
   ]
  },
  {
   "cell_type": "markdown",
   "metadata": {},
   "source": [
    "Here we want to open the md logfile as a pandas dataframe"
   ]
  },
  {
   "cell_type": "code",
   "execution_count": 11,
   "metadata": {
    "ExecuteTime": {
     "end_time": "2023-11-20T13:08:26.076919Z",
     "start_time": "2023-11-20T13:08:25.298682Z"
    }
   },
   "outputs": [
    {
     "name": "stderr",
     "output_type": "stream",
     "text": [
      "/var/folders/06/kkylt54j0yj__mz8g6j31tqh0000gn/T/ipykernel_55151/1563724761.py:2: ParserWarning: Falling back to the 'python' engine because the 'c' engine does not support regex separators (separators > 1 char and different from '\\s+' are interpreted as regex); you can avoid this warning by specifying engine='python'.\n",
      "  data = pd.read_csv(\"md.log\", sep='\\s{2,}',header=None, nrows=200, skiprows=[0])\n"
     ]
    }
   ],
   "source": [
    "import pandas as pd\n",
    "data = pd.read_csv(\"md.log\", sep='\\s{2,}',header=None, nrows=200, skiprows=[0])\n",
    "data = pd.DataFrame(data)"
   ]
  },
  {
   "cell_type": "markdown",
   "metadata": {},
   "source": [
    "create variables with total energy and Cu-Cu distance"
   ]
  },
  {
   "cell_type": "code",
   "execution_count": 12,
   "metadata": {
    "ExecuteTime": {
     "end_time": "2023-11-20T13:08:26.080018Z",
     "start_time": "2023-11-20T13:08:26.078151Z"
    }
   },
   "outputs": [],
   "source": [
    "z = data[1].tolist()\n",
    "x = bond1\n",
    "y = bond2"
   ]
  },
  {
   "cell_type": "markdown",
   "metadata": {},
   "source": [
    "create a dataframe for plotting 3D data"
   ]
  },
  {
   "cell_type": "code",
   "execution_count": 13,
   "metadata": {
    "ExecuteTime": {
     "end_time": "2023-11-20T13:08:26.085002Z",
     "start_time": "2023-11-20T13:08:26.081564Z"
    }
   },
   "outputs": [
    {
     "name": "stdout",
     "output_type": "stream",
     "text": [
      "            X         Y       Z\n",
      "0    2.552655  2.552655  152.68\n",
      "1    2.562335  2.569685  152.72\n",
      "2    2.571229  2.586233  152.83\n",
      "3    2.578571  2.601736  153.00\n",
      "4    2.583668  2.615678  153.20\n",
      "..        ...       ...     ...\n",
      "195  2.627055  2.592296  153.24\n",
      "196  2.633113  2.589790  153.25\n",
      "197  2.636289  2.583862  153.25\n",
      "198  2.636739  2.575081  153.25\n",
      "199  2.634710  2.564161  153.26\n",
      "\n",
      "[200 rows x 3 columns]\n"
     ]
    }
   ],
   "source": [
    "df = pd.DataFrame(list(zip(x,y,z)), columns=list('XYZ'))\n",
    "print(df)"
   ]
  },
  {
   "cell_type": "markdown",
   "metadata": {},
   "source": [
    "## 3D PES"
   ]
  },
  {
   "cell_type": "markdown",
   "metadata": {},
   "source": [
    "Let's use matplotlib to plt a 3D PES of our data"
   ]
  },
  {
   "cell_type": "code",
   "execution_count": 14,
   "metadata": {
    "ExecuteTime": {
     "end_time": "2023-11-20T13:08:26.551198Z",
     "start_time": "2023-11-20T13:08:26.087629Z"
    }
   },
   "outputs": [
    {
     "ename": "TypeError",
     "evalue": "FigureBase.gca() got an unexpected keyword argument 'projection'",
     "output_type": "error",
     "traceback": [
      "\u001B[0;31m---------------------------------------------------------------------------\u001B[0m",
      "\u001B[0;31mTypeError\u001B[0m                                 Traceback (most recent call last)",
      "Cell \u001B[0;32mIn[14], line 3\u001B[0m\n\u001B[1;32m      1\u001B[0m \u001B[38;5;28;01mimport\u001B[39;00m \u001B[38;5;21;01mmatplotlib\u001B[39;00m\u001B[38;5;21;01m.\u001B[39;00m\u001B[38;5;21;01mpyplot\u001B[39;00m \u001B[38;5;28;01mas\u001B[39;00m \u001B[38;5;21;01mplt\u001B[39;00m\n\u001B[1;32m      2\u001B[0m fig \u001B[38;5;241m=\u001B[39m plt\u001B[38;5;241m.\u001B[39mfigure()\n\u001B[0;32m----> 3\u001B[0m ax \u001B[38;5;241m=\u001B[39m \u001B[43mfig\u001B[49m\u001B[38;5;241;43m.\u001B[39;49m\u001B[43mgca\u001B[49m\u001B[43m(\u001B[49m\u001B[43mprojection\u001B[49m\u001B[38;5;241;43m=\u001B[39;49m\u001B[38;5;124;43m'\u001B[39;49m\u001B[38;5;124;43m3d\u001B[39;49m\u001B[38;5;124;43m'\u001B[39;49m\u001B[43m)\u001B[49m\n\u001B[1;32m      4\u001B[0m surf \u001B[38;5;241m=\u001B[39m ax\u001B[38;5;241m.\u001B[39mplot_trisurf(df[\u001B[38;5;124m'\u001B[39m\u001B[38;5;124mY\u001B[39m\u001B[38;5;124m'\u001B[39m], df[\u001B[38;5;124m'\u001B[39m\u001B[38;5;124mX\u001B[39m\u001B[38;5;124m'\u001B[39m], df[\u001B[38;5;124m'\u001B[39m\u001B[38;5;124mZ\u001B[39m\u001B[38;5;124m'\u001B[39m], cmap\u001B[38;5;241m=\u001B[39mplt\u001B[38;5;241m.\u001B[39mcm\u001B[38;5;241m.\u001B[39mplasma, linewidth\u001B[38;5;241m=\u001B[39m\u001B[38;5;241m0.01\u001B[39m)\n\u001B[1;32m      5\u001B[0m fig\u001B[38;5;241m.\u001B[39mcolorbar( surf, shrink\u001B[38;5;241m=\u001B[39m\u001B[38;5;241m0.5\u001B[39m, aspect\u001B[38;5;241m=\u001B[39m\u001B[38;5;241m5\u001B[39m)\n",
      "\u001B[0;31mTypeError\u001B[0m: FigureBase.gca() got an unexpected keyword argument 'projection'"
     ]
    },
    {
     "data": {
      "text/plain": "<Figure size 640x480 with 0 Axes>"
     },
     "metadata": {},
     "output_type": "display_data"
    }
   ],
   "source": [
    "import matplotlib.pyplot as plt\n",
    "fig = plt.figure()\n",
    "ax = fig.gca(projection='3d')\n",
    "surf = ax.plot_trisurf(df['Y'], df['X'], df['Z'], cmap=plt.cm.plasma, linewidth=0.01)\n",
    "fig.colorbar( surf, shrink=0.5, aspect=5)\n",
    "ax.view_init(30, 45)\n",
    "plt.ylabel('Cu0-Cu1/ Å')\n",
    "plt.xlabel('Cu0-Cu2/ Å')"
   ]
  },
  {
   "cell_type": "markdown",
   "metadata": {},
   "source": [
    "## 2D PES"
   ]
  },
  {
   "cell_type": "markdown",
   "metadata": {},
   "source": [
    "Now let's try visualising our PES as a 2D contour plot"
   ]
  },
  {
   "cell_type": "code",
   "execution_count": null,
   "metadata": {},
   "outputs": [],
   "source": [
    "plt.tricontourf(df[\"X\"], df[\"Y\"], df[\"Z\"],levels=10, cmap='plasma')\n",
    "plt.colorbar()\n",
    "plt.ylabel('Cu0-Cu1/ Å')\n",
    "plt.xlabel('Cu0-Cu2/ Å')"
   ]
  },
  {
   "cell_type": "markdown",
   "metadata": {},
   "source": [
    "## Plot density of scatter points"
   ]
  },
  {
   "cell_type": "markdown",
   "metadata": {},
   "source": [
    "plot density of scatter points for Cu-Cu distances"
   ]
  },
  {
   "cell_type": "code",
   "execution_count": null,
   "metadata": {},
   "outputs": [],
   "source": [
    "import numpy as np\n",
    "import matplotlib.cm as cm\n",
    "from scipy.ndimage.filters import gaussian_filter"
   ]
  },
  {
   "cell_type": "code",
   "execution_count": null,
   "metadata": {},
   "outputs": [],
   "source": [
    "def myplot(x, y, s, bins=1000):\n",
    "    heatmap, xedges, yedges = np.histogram2d(x, y, bins=bins)\n",
    "    heatmap = gaussian_filter(heatmap, sigma=s)\n",
    "    extent = [xedges[0], xedges[-1], yedges[0], yedges[-1]]\n",
    "    return heatmap.T, extent\n",
    "fig, axs = plt.subplots(1, 2, constrained_layout=True)\n",
    "sigmas = [0, 64]\n",
    "for ax, s in zip(axs.flatten(), sigmas):\n",
    "    if s == 0:\n",
    "        ax.plot(df['X'], df['Y'], 'k.', markersize=5)\n",
    "        ax.set_title(\"Scatter plot\")\n",
    "    else:\n",
    "        img, extent = myplot(df['X'], df['Y'], s)\n",
    "        ax.imshow(img, aspect=\"auto\", extent=extent, origin='lower', cmap=cm.jet)\n",
    "        ax.set_title(\"Density of scatter points\")\n",
    "plt.ylabel('Cu0-Cu1/ Å')\n",
    "plt.xlabel('Cu0-Cu2/ Å')\n",
    "plt.show()"
   ]
  }
 ],
 "metadata": {
  "kernelspec": {
   "display_name": "Python 3",
   "language": "python",
   "name": "python3"
  },
  "language_info": {
   "codemirror_mode": {
    "name": "ipython",
    "version": 3
   },
   "file_extension": ".py",
   "mimetype": "text/x-python",
   "name": "python",
   "nbconvert_exporter": "python",
   "pygments_lexer": "ipython3",
   "version": "3.6.4"
  }
 },
 "nbformat": 4,
 "nbformat_minor": 2
}
